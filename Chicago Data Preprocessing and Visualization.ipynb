{
 "cells": [
  {
   "cell_type": "markdown",
   "metadata": {},
   "source": [
    "### Import Libraries"
   ]
  },
  {
   "cell_type": "code",
   "execution_count": 1,
   "metadata": {},
   "outputs": [],
   "source": [
    "import numpy as np\n",
    "import pandas as pd\n",
    "import matplotlib.pyplot as plt\n",
    "import statsmodels.api as sm\n",
    "import seaborn as sns\n",
    "sns.set()"
   ]
  },
  {
   "cell_type": "markdown",
   "metadata": {},
   "source": [
    "### Load File and Investigate"
   ]
  },
  {
   "cell_type": "code",
   "execution_count": 6,
   "metadata": {},
   "outputs": [
    {
     "data": {
      "text/html": [
       "<div>\n",
       "<style scoped>\n",
       "    .dataframe tbody tr th:only-of-type {\n",
       "        vertical-align: middle;\n",
       "    }\n",
       "\n",
       "    .dataframe tbody tr th {\n",
       "        vertical-align: top;\n",
       "    }\n",
       "\n",
       "    .dataframe thead th {\n",
       "        text-align: right;\n",
       "    }\n",
       "</style>\n",
       "<table border=\"1\" class=\"dataframe\">\n",
       "  <thead>\n",
       "    <tr style=\"text-align: right;\">\n",
       "      <th></th>\n",
       "      <th>STATION</th>\n",
       "      <th>NAME</th>\n",
       "      <th>DATE</th>\n",
       "      <th>PRCP</th>\n",
       "      <th>SNOW</th>\n",
       "      <th>SNWD</th>\n",
       "      <th>TMAX</th>\n",
       "      <th>TMIN</th>\n",
       "      <th>TOBS</th>\n",
       "      <th>WESD</th>\n",
       "      <th>WT01</th>\n",
       "      <th>WT16</th>\n",
       "      <th>WT18</th>\n",
       "    </tr>\n",
       "  </thead>\n",
       "  <tbody>\n",
       "    <tr>\n",
       "      <th>0</th>\n",
       "      <td>USC00111532</td>\n",
       "      <td>CHICAGO LAKEVIEW PUMP, IL US</td>\n",
       "      <td>1948-07-01</td>\n",
       "      <td>0.0</td>\n",
       "      <td>0.0</td>\n",
       "      <td>0.0</td>\n",
       "      <td>NaN</td>\n",
       "      <td>NaN</td>\n",
       "      <td>NaN</td>\n",
       "      <td>NaN</td>\n",
       "      <td>NaN</td>\n",
       "      <td>NaN</td>\n",
       "      <td>NaN</td>\n",
       "    </tr>\n",
       "    <tr>\n",
       "      <th>1</th>\n",
       "      <td>USC00111532</td>\n",
       "      <td>CHICAGO LAKEVIEW PUMP, IL US</td>\n",
       "      <td>1948-07-02</td>\n",
       "      <td>0.0</td>\n",
       "      <td>0.0</td>\n",
       "      <td>0.0</td>\n",
       "      <td>NaN</td>\n",
       "      <td>NaN</td>\n",
       "      <td>NaN</td>\n",
       "      <td>NaN</td>\n",
       "      <td>NaN</td>\n",
       "      <td>NaN</td>\n",
       "      <td>NaN</td>\n",
       "    </tr>\n",
       "    <tr>\n",
       "      <th>2</th>\n",
       "      <td>USC00111532</td>\n",
       "      <td>CHICAGO LAKEVIEW PUMP, IL US</td>\n",
       "      <td>1948-07-03</td>\n",
       "      <td>0.0</td>\n",
       "      <td>0.0</td>\n",
       "      <td>0.0</td>\n",
       "      <td>NaN</td>\n",
       "      <td>NaN</td>\n",
       "      <td>NaN</td>\n",
       "      <td>NaN</td>\n",
       "      <td>NaN</td>\n",
       "      <td>NaN</td>\n",
       "      <td>NaN</td>\n",
       "    </tr>\n",
       "    <tr>\n",
       "      <th>3</th>\n",
       "      <td>USC00111532</td>\n",
       "      <td>CHICAGO LAKEVIEW PUMP, IL US</td>\n",
       "      <td>1948-07-04</td>\n",
       "      <td>0.0</td>\n",
       "      <td>0.0</td>\n",
       "      <td>0.0</td>\n",
       "      <td>NaN</td>\n",
       "      <td>NaN</td>\n",
       "      <td>NaN</td>\n",
       "      <td>NaN</td>\n",
       "      <td>NaN</td>\n",
       "      <td>NaN</td>\n",
       "      <td>NaN</td>\n",
       "    </tr>\n",
       "    <tr>\n",
       "      <th>4</th>\n",
       "      <td>USC00111532</td>\n",
       "      <td>CHICAGO LAKEVIEW PUMP, IL US</td>\n",
       "      <td>1948-07-05</td>\n",
       "      <td>0.0</td>\n",
       "      <td>0.0</td>\n",
       "      <td>0.0</td>\n",
       "      <td>NaN</td>\n",
       "      <td>NaN</td>\n",
       "      <td>NaN</td>\n",
       "      <td>NaN</td>\n",
       "      <td>NaN</td>\n",
       "      <td>NaN</td>\n",
       "      <td>NaN</td>\n",
       "    </tr>\n",
       "  </tbody>\n",
       "</table>\n",
       "</div>"
      ],
      "text/plain": [
       "       STATION                          NAME       DATE  PRCP  SNOW  SNWD  \\\n",
       "0  USC00111532  CHICAGO LAKEVIEW PUMP, IL US 1948-07-01   0.0   0.0   0.0   \n",
       "1  USC00111532  CHICAGO LAKEVIEW PUMP, IL US 1948-07-02   0.0   0.0   0.0   \n",
       "2  USC00111532  CHICAGO LAKEVIEW PUMP, IL US 1948-07-03   0.0   0.0   0.0   \n",
       "3  USC00111532  CHICAGO LAKEVIEW PUMP, IL US 1948-07-04   0.0   0.0   0.0   \n",
       "4  USC00111532  CHICAGO LAKEVIEW PUMP, IL US 1948-07-05   0.0   0.0   0.0   \n",
       "\n",
       "   TMAX  TMIN  TOBS  WESD  WT01  WT16  WT18  \n",
       "0   NaN   NaN   NaN   NaN   NaN   NaN   NaN  \n",
       "1   NaN   NaN   NaN   NaN   NaN   NaN   NaN  \n",
       "2   NaN   NaN   NaN   NaN   NaN   NaN   NaN  \n",
       "3   NaN   NaN   NaN   NaN   NaN   NaN   NaN  \n",
       "4   NaN   NaN   NaN   NaN   NaN   NaN   NaN  "
      ]
     },
     "execution_count": 6,
     "metadata": {},
     "output_type": "execute_result"
    }
   ],
   "source": [
    "data = pd.read_csv('Chicago Weather Station Data.csv', parse_dates=[2])\n",
    "data.head()"
   ]
  },
  {
   "cell_type": "code",
   "execution_count": 9,
   "metadata": {},
   "outputs": [
    {
     "data": {
      "text/html": [
       "<div>\n",
       "<style scoped>\n",
       "    .dataframe tbody tr th:only-of-type {\n",
       "        vertical-align: middle;\n",
       "    }\n",
       "\n",
       "    .dataframe tbody tr th {\n",
       "        vertical-align: top;\n",
       "    }\n",
       "\n",
       "    .dataframe thead th {\n",
       "        text-align: right;\n",
       "    }\n",
       "</style>\n",
       "<table border=\"1\" class=\"dataframe\">\n",
       "  <thead>\n",
       "    <tr style=\"text-align: right;\">\n",
       "      <th></th>\n",
       "      <th>PRCP</th>\n",
       "      <th>SNOW</th>\n",
       "      <th>SNWD</th>\n",
       "      <th>TMAX</th>\n",
       "      <th>TMIN</th>\n",
       "      <th>TOBS</th>\n",
       "      <th>WESD</th>\n",
       "      <th>WT01</th>\n",
       "      <th>WT16</th>\n",
       "      <th>WT18</th>\n",
       "    </tr>\n",
       "  </thead>\n",
       "  <tbody>\n",
       "    <tr>\n",
       "      <th>count</th>\n",
       "      <td>53749.000000</td>\n",
       "      <td>36228.000000</td>\n",
       "      <td>36233.000000</td>\n",
       "      <td>54184.000000</td>\n",
       "      <td>54183.000000</td>\n",
       "      <td>21797.000000</td>\n",
       "      <td>622.000000</td>\n",
       "      <td>2286.0</td>\n",
       "      <td>540.0</td>\n",
       "      <td>2.0</td>\n",
       "    </tr>\n",
       "    <tr>\n",
       "      <th>mean</th>\n",
       "      <td>0.096948</td>\n",
       "      <td>0.089058</td>\n",
       "      <td>0.559048</td>\n",
       "      <td>58.200317</td>\n",
       "      <td>42.925032</td>\n",
       "      <td>50.462357</td>\n",
       "      <td>0.029582</td>\n",
       "      <td>1.0</td>\n",
       "      <td>1.0</td>\n",
       "      <td>1.0</td>\n",
       "    </tr>\n",
       "    <tr>\n",
       "      <th>std</th>\n",
       "      <td>0.306512</td>\n",
       "      <td>0.562209</td>\n",
       "      <td>1.900540</td>\n",
       "      <td>20.776471</td>\n",
       "      <td>18.985838</td>\n",
       "      <td>20.425397</td>\n",
       "      <td>0.220436</td>\n",
       "      <td>0.0</td>\n",
       "      <td>0.0</td>\n",
       "      <td>0.0</td>\n",
       "    </tr>\n",
       "    <tr>\n",
       "      <th>min</th>\n",
       "      <td>0.000000</td>\n",
       "      <td>0.000000</td>\n",
       "      <td>0.000000</td>\n",
       "      <td>-20.000000</td>\n",
       "      <td>-27.000000</td>\n",
       "      <td>-25.000000</td>\n",
       "      <td>0.000000</td>\n",
       "      <td>1.0</td>\n",
       "      <td>1.0</td>\n",
       "      <td>1.0</td>\n",
       "    </tr>\n",
       "    <tr>\n",
       "      <th>25%</th>\n",
       "      <td>0.000000</td>\n",
       "      <td>0.000000</td>\n",
       "      <td>0.000000</td>\n",
       "      <td>41.000000</td>\n",
       "      <td>30.000000</td>\n",
       "      <td>35.000000</td>\n",
       "      <td>0.000000</td>\n",
       "      <td>1.0</td>\n",
       "      <td>1.0</td>\n",
       "      <td>1.0</td>\n",
       "    </tr>\n",
       "    <tr>\n",
       "      <th>50%</th>\n",
       "      <td>0.000000</td>\n",
       "      <td>0.000000</td>\n",
       "      <td>0.000000</td>\n",
       "      <td>59.000000</td>\n",
       "      <td>43.000000</td>\n",
       "      <td>51.000000</td>\n",
       "      <td>0.000000</td>\n",
       "      <td>1.0</td>\n",
       "      <td>1.0</td>\n",
       "      <td>1.0</td>\n",
       "    </tr>\n",
       "    <tr>\n",
       "      <th>75%</th>\n",
       "      <td>0.040000</td>\n",
       "      <td>0.000000</td>\n",
       "      <td>0.000000</td>\n",
       "      <td>76.000000</td>\n",
       "      <td>59.000000</td>\n",
       "      <td>68.000000</td>\n",
       "      <td>0.000000</td>\n",
       "      <td>1.0</td>\n",
       "      <td>1.0</td>\n",
       "      <td>1.0</td>\n",
       "    </tr>\n",
       "    <tr>\n",
       "      <th>max</th>\n",
       "      <td>30.000000</td>\n",
       "      <td>16.400000</td>\n",
       "      <td>25.000000</td>\n",
       "      <td>171.000000</td>\n",
       "      <td>85.000000</td>\n",
       "      <td>101.000000</td>\n",
       "      <td>3.500000</td>\n",
       "      <td>1.0</td>\n",
       "      <td>1.0</td>\n",
       "      <td>1.0</td>\n",
       "    </tr>\n",
       "  </tbody>\n",
       "</table>\n",
       "</div>"
      ],
      "text/plain": [
       "               PRCP          SNOW          SNWD          TMAX          TMIN  \\\n",
       "count  53749.000000  36228.000000  36233.000000  54184.000000  54183.000000   \n",
       "mean       0.096948      0.089058      0.559048     58.200317     42.925032   \n",
       "std        0.306512      0.562209      1.900540     20.776471     18.985838   \n",
       "min        0.000000      0.000000      0.000000    -20.000000    -27.000000   \n",
       "25%        0.000000      0.000000      0.000000     41.000000     30.000000   \n",
       "50%        0.000000      0.000000      0.000000     59.000000     43.000000   \n",
       "75%        0.040000      0.000000      0.000000     76.000000     59.000000   \n",
       "max       30.000000     16.400000     25.000000    171.000000     85.000000   \n",
       "\n",
       "               TOBS        WESD    WT01   WT16  WT18  \n",
       "count  21797.000000  622.000000  2286.0  540.0   2.0  \n",
       "mean      50.462357    0.029582     1.0    1.0   1.0  \n",
       "std       20.425397    0.220436     0.0    0.0   0.0  \n",
       "min      -25.000000    0.000000     1.0    1.0   1.0  \n",
       "25%       35.000000    0.000000     1.0    1.0   1.0  \n",
       "50%       51.000000    0.000000     1.0    1.0   1.0  \n",
       "75%       68.000000    0.000000     1.0    1.0   1.0  \n",
       "max      101.000000    3.500000     1.0    1.0   1.0  "
      ]
     },
     "execution_count": 9,
     "metadata": {},
     "output_type": "execute_result"
    }
   ],
   "source": [
    "data.describe()"
   ]
  },
  {
   "cell_type": "code",
   "execution_count": 10,
   "metadata": {},
   "outputs": [
    {
     "name": "stdout",
     "output_type": "stream",
     "text": [
      "<class 'pandas.core.frame.DataFrame'>\n",
      "RangeIndex: 55568 entries, 0 to 55567\n",
      "Data columns (total 13 columns):\n",
      " #   Column   Non-Null Count  Dtype         \n",
      "---  ------   --------------  -----         \n",
      " 0   STATION  55568 non-null  object        \n",
      " 1   NAME     55568 non-null  object        \n",
      " 2   DATE     55568 non-null  datetime64[ns]\n",
      " 3   PRCP     53749 non-null  float64       \n",
      " 4   SNOW     36228 non-null  float64       \n",
      " 5   SNWD     36233 non-null  float64       \n",
      " 6   TMAX     54184 non-null  float64       \n",
      " 7   TMIN     54183 non-null  float64       \n",
      " 8   TOBS     21797 non-null  float64       \n",
      " 9   WESD     622 non-null    float64       \n",
      " 10  WT01     2286 non-null   float64       \n",
      " 11  WT16     540 non-null    float64       \n",
      " 12  WT18     2 non-null      float64       \n",
      "dtypes: datetime64[ns](1), float64(10), object(2)\n",
      "memory usage: 5.5+ MB\n"
     ]
    }
   ],
   "source": [
    "data.info()"
   ]
  },
  {
   "cell_type": "markdown",
   "metadata": {},
   "source": [
    "### Convert data types"
   ]
  },
  {
   "cell_type": "code",
   "execution_count": 12,
   "metadata": {},
   "outputs": [],
   "source": [
    "# Parsed date column in initial .csv read"
   ]
  },
  {
   "cell_type": "markdown",
   "metadata": {},
   "source": [
    "### Convert column names"
   ]
  },
  {
   "cell_type": "code",
   "execution_count": 14,
   "metadata": {},
   "outputs": [
    {
     "data": {
      "text/plain": [
       "array(['STATION', 'NAME', 'DATE', 'PRCP', 'SNOW', 'SNWD', 'TMAX', 'TMIN',\n",
       "       'TOBS', 'WESD', 'WT01', 'WT16', 'WT18'], dtype=object)"
      ]
     },
     "execution_count": 14,
     "metadata": {},
     "output_type": "execute_result"
    }
   ],
   "source": [
    "data.columns.values"
   ]
  },
  {
   "cell_type": "code",
   "execution_count": 17,
   "metadata": {},
   "outputs": [],
   "source": [
    "data = data.rename(columns={'PRCP':'Precipitation (in)', 'SNOW':'Snowfall (in)', 'SNWD':'Snow Depth (in)', 'TMAX':'Max. Temp (degF)', 'TMIN':'Min. Temp (degF)',\n",
    "       'TOBS':'Observed Temp (degF)', 'WESD':'Water Equivalent to Snow'})"
   ]
  },
  {
   "cell_type": "code",
   "execution_count": 19,
   "metadata": {},
   "outputs": [
    {
     "name": "stdout",
     "output_type": "stream",
     "text": [
      "<class 'pandas.core.frame.DataFrame'>\n",
      "RangeIndex: 55568 entries, 0 to 55567\n",
      "Data columns (total 13 columns):\n",
      " #   Column                    Non-Null Count  Dtype         \n",
      "---  ------                    --------------  -----         \n",
      " 0   STATION                   55568 non-null  object        \n",
      " 1   NAME                      55568 non-null  object        \n",
      " 2   DATE                      55568 non-null  datetime64[ns]\n",
      " 3   Precipitation (in)        53749 non-null  float64       \n",
      " 4   Snowfall (in)             36228 non-null  float64       \n",
      " 5   Snow Depth (in)           36233 non-null  float64       \n",
      " 6   Max. Temp (degF)          54184 non-null  float64       \n",
      " 7   Min. Temp (degF)          54183 non-null  float64       \n",
      " 8   Observed Temp (degF)      21797 non-null  float64       \n",
      " 9   Water Equivalent to Snow  622 non-null    float64       \n",
      " 10  WT01                      2286 non-null   float64       \n",
      " 11  WT16                      540 non-null    float64       \n",
      " 12  WT18                      2 non-null      float64       \n",
      "dtypes: datetime64[ns](1), float64(10), object(2)\n",
      "memory usage: 5.5+ MB\n"
     ]
    }
   ],
   "source": [
    "data.info()"
   ]
  },
  {
   "cell_type": "markdown",
   "metadata": {},
   "source": [
    "### Drop column values with high Null occurrences"
   ]
  },
  {
   "cell_type": "code",
   "execution_count": 21,
   "metadata": {},
   "outputs": [
    {
     "name": "stdout",
     "output_type": "stream",
     "text": [
      "<class 'pandas.core.frame.DataFrame'>\n",
      "RangeIndex: 55568 entries, 0 to 55567\n",
      "Data columns (total 9 columns):\n",
      " #   Column                Non-Null Count  Dtype         \n",
      "---  ------                --------------  -----         \n",
      " 0   STATION               55568 non-null  object        \n",
      " 1   NAME                  55568 non-null  object        \n",
      " 2   DATE                  55568 non-null  datetime64[ns]\n",
      " 3   Precipitation (in)    53749 non-null  float64       \n",
      " 4   Snowfall (in)         36228 non-null  float64       \n",
      " 5   Snow Depth (in)       36233 non-null  float64       \n",
      " 6   Max. Temp (degF)      54184 non-null  float64       \n",
      " 7   Min. Temp (degF)      54183 non-null  float64       \n",
      " 8   Observed Temp (degF)  21797 non-null  float64       \n",
      "dtypes: datetime64[ns](1), float64(6), object(2)\n",
      "memory usage: 3.8+ MB\n"
     ]
    }
   ],
   "source": [
    "data_drop = data.drop(['Water Equivalent to Snow', 'WT01', 'WT16', 'WT18'], axis=1)\n",
    "data_drop.info()"
   ]
  },
  {
   "cell_type": "markdown",
   "metadata": {},
   "source": [
    "### Investigate different weater stations and divide data"
   ]
  },
  {
   "cell_type": "code",
   "execution_count": 24,
   "metadata": {},
   "outputs": [
    {
     "data": {
      "text/plain": [
       "array(['CHICAGO LAKEVIEW PUMP, IL US', 'CHICAGO BOTANIC GARDEN, IL US',\n",
       "       'CHICAGO GRANT PARK, IL US',\n",
       "       'CHICAGO WEATHER BUREAU CITY 2, IL US',\n",
       "       'CHICAGO UNIVERSITY, IL US'], dtype=object)"
      ]
     },
     "execution_count": 24,
     "metadata": {},
     "output_type": "execute_result"
    }
   ],
   "source": [
    "data_drop['NAME'].unique()"
   ]
  },
  {
   "cell_type": "code",
   "execution_count": null,
   "metadata": {},
   "outputs": [],
   "source": [
    "data"
   ]
  },
  {
   "cell_type": "code",
   "execution_count": null,
   "metadata": {},
   "outputs": [],
   "source": []
  }
 ],
 "metadata": {
  "kernelspec": {
   "display_name": "Python 3",
   "language": "python",
   "name": "python3"
  },
  "language_info": {
   "codemirror_mode": {
    "name": "ipython",
    "version": 3
   },
   "file_extension": ".py",
   "mimetype": "text/x-python",
   "name": "python",
   "nbconvert_exporter": "python",
   "pygments_lexer": "ipython3",
   "version": "3.8.3"
  }
 },
 "nbformat": 4,
 "nbformat_minor": 4
}
