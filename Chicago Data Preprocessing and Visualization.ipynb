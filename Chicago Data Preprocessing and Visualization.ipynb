{
 "cells": [
  {
   "cell_type": "markdown",
   "metadata": {},
   "source": [
    "### Import Libraries"
   ]
  },
  {
   "cell_type": "code",
   "execution_count": 128,
   "metadata": {},
   "outputs": [],
   "source": [
    "import numpy as np\n",
    "import pandas as pd\n",
    "import matplotlib.pyplot as plt\n",
    "import statsmodels.api as sm\n",
    "import seaborn as sns\n",
    "sns.set()\n",
    "import datetime"
   ]
  },
  {
   "cell_type": "markdown",
   "metadata": {},
   "source": [
    "### Load File and Investigate"
   ]
  },
  {
   "cell_type": "code",
   "execution_count": 6,
   "metadata": {},
   "outputs": [
    {
     "data": {
      "text/html": [
       "<div>\n",
       "<style scoped>\n",
       "    .dataframe tbody tr th:only-of-type {\n",
       "        vertical-align: middle;\n",
       "    }\n",
       "\n",
       "    .dataframe tbody tr th {\n",
       "        vertical-align: top;\n",
       "    }\n",
       "\n",
       "    .dataframe thead th {\n",
       "        text-align: right;\n",
       "    }\n",
       "</style>\n",
       "<table border=\"1\" class=\"dataframe\">\n",
       "  <thead>\n",
       "    <tr style=\"text-align: right;\">\n",
       "      <th></th>\n",
       "      <th>STATION</th>\n",
       "      <th>NAME</th>\n",
       "      <th>DATE</th>\n",
       "      <th>PRCP</th>\n",
       "      <th>SNOW</th>\n",
       "      <th>SNWD</th>\n",
       "      <th>TMAX</th>\n",
       "      <th>TMIN</th>\n",
       "      <th>TOBS</th>\n",
       "      <th>WESD</th>\n",
       "      <th>WT01</th>\n",
       "      <th>WT16</th>\n",
       "      <th>WT18</th>\n",
       "    </tr>\n",
       "  </thead>\n",
       "  <tbody>\n",
       "    <tr>\n",
       "      <th>0</th>\n",
       "      <td>USC00111532</td>\n",
       "      <td>CHICAGO LAKEVIEW PUMP, IL US</td>\n",
       "      <td>1948-07-01</td>\n",
       "      <td>0.0</td>\n",
       "      <td>0.0</td>\n",
       "      <td>0.0</td>\n",
       "      <td>NaN</td>\n",
       "      <td>NaN</td>\n",
       "      <td>NaN</td>\n",
       "      <td>NaN</td>\n",
       "      <td>NaN</td>\n",
       "      <td>NaN</td>\n",
       "      <td>NaN</td>\n",
       "    </tr>\n",
       "    <tr>\n",
       "      <th>1</th>\n",
       "      <td>USC00111532</td>\n",
       "      <td>CHICAGO LAKEVIEW PUMP, IL US</td>\n",
       "      <td>1948-07-02</td>\n",
       "      <td>0.0</td>\n",
       "      <td>0.0</td>\n",
       "      <td>0.0</td>\n",
       "      <td>NaN</td>\n",
       "      <td>NaN</td>\n",
       "      <td>NaN</td>\n",
       "      <td>NaN</td>\n",
       "      <td>NaN</td>\n",
       "      <td>NaN</td>\n",
       "      <td>NaN</td>\n",
       "    </tr>\n",
       "    <tr>\n",
       "      <th>2</th>\n",
       "      <td>USC00111532</td>\n",
       "      <td>CHICAGO LAKEVIEW PUMP, IL US</td>\n",
       "      <td>1948-07-03</td>\n",
       "      <td>0.0</td>\n",
       "      <td>0.0</td>\n",
       "      <td>0.0</td>\n",
       "      <td>NaN</td>\n",
       "      <td>NaN</td>\n",
       "      <td>NaN</td>\n",
       "      <td>NaN</td>\n",
       "      <td>NaN</td>\n",
       "      <td>NaN</td>\n",
       "      <td>NaN</td>\n",
       "    </tr>\n",
       "    <tr>\n",
       "      <th>3</th>\n",
       "      <td>USC00111532</td>\n",
       "      <td>CHICAGO LAKEVIEW PUMP, IL US</td>\n",
       "      <td>1948-07-04</td>\n",
       "      <td>0.0</td>\n",
       "      <td>0.0</td>\n",
       "      <td>0.0</td>\n",
       "      <td>NaN</td>\n",
       "      <td>NaN</td>\n",
       "      <td>NaN</td>\n",
       "      <td>NaN</td>\n",
       "      <td>NaN</td>\n",
       "      <td>NaN</td>\n",
       "      <td>NaN</td>\n",
       "    </tr>\n",
       "    <tr>\n",
       "      <th>4</th>\n",
       "      <td>USC00111532</td>\n",
       "      <td>CHICAGO LAKEVIEW PUMP, IL US</td>\n",
       "      <td>1948-07-05</td>\n",
       "      <td>0.0</td>\n",
       "      <td>0.0</td>\n",
       "      <td>0.0</td>\n",
       "      <td>NaN</td>\n",
       "      <td>NaN</td>\n",
       "      <td>NaN</td>\n",
       "      <td>NaN</td>\n",
       "      <td>NaN</td>\n",
       "      <td>NaN</td>\n",
       "      <td>NaN</td>\n",
       "    </tr>\n",
       "  </tbody>\n",
       "</table>\n",
       "</div>"
      ],
      "text/plain": [
       "       STATION                          NAME       DATE  PRCP  SNOW  SNWD  \\\n",
       "0  USC00111532  CHICAGO LAKEVIEW PUMP, IL US 1948-07-01   0.0   0.0   0.0   \n",
       "1  USC00111532  CHICAGO LAKEVIEW PUMP, IL US 1948-07-02   0.0   0.0   0.0   \n",
       "2  USC00111532  CHICAGO LAKEVIEW PUMP, IL US 1948-07-03   0.0   0.0   0.0   \n",
       "3  USC00111532  CHICAGO LAKEVIEW PUMP, IL US 1948-07-04   0.0   0.0   0.0   \n",
       "4  USC00111532  CHICAGO LAKEVIEW PUMP, IL US 1948-07-05   0.0   0.0   0.0   \n",
       "\n",
       "   TMAX  TMIN  TOBS  WESD  WT01  WT16  WT18  \n",
       "0   NaN   NaN   NaN   NaN   NaN   NaN   NaN  \n",
       "1   NaN   NaN   NaN   NaN   NaN   NaN   NaN  \n",
       "2   NaN   NaN   NaN   NaN   NaN   NaN   NaN  \n",
       "3   NaN   NaN   NaN   NaN   NaN   NaN   NaN  \n",
       "4   NaN   NaN   NaN   NaN   NaN   NaN   NaN  "
      ]
     },
     "execution_count": 6,
     "metadata": {},
     "output_type": "execute_result"
    }
   ],
   "source": [
    "data = pd.read_csv('Chicago Weather Station Data.csv', parse_dates=[2])\n",
    "data.head()"
   ]
  },
  {
   "cell_type": "code",
   "execution_count": 9,
   "metadata": {},
   "outputs": [
    {
     "data": {
      "text/html": [
       "<div>\n",
       "<style scoped>\n",
       "    .dataframe tbody tr th:only-of-type {\n",
       "        vertical-align: middle;\n",
       "    }\n",
       "\n",
       "    .dataframe tbody tr th {\n",
       "        vertical-align: top;\n",
       "    }\n",
       "\n",
       "    .dataframe thead th {\n",
       "        text-align: right;\n",
       "    }\n",
       "</style>\n",
       "<table border=\"1\" class=\"dataframe\">\n",
       "  <thead>\n",
       "    <tr style=\"text-align: right;\">\n",
       "      <th></th>\n",
       "      <th>PRCP</th>\n",
       "      <th>SNOW</th>\n",
       "      <th>SNWD</th>\n",
       "      <th>TMAX</th>\n",
       "      <th>TMIN</th>\n",
       "      <th>TOBS</th>\n",
       "      <th>WESD</th>\n",
       "      <th>WT01</th>\n",
       "      <th>WT16</th>\n",
       "      <th>WT18</th>\n",
       "    </tr>\n",
       "  </thead>\n",
       "  <tbody>\n",
       "    <tr>\n",
       "      <th>count</th>\n",
       "      <td>53749.000000</td>\n",
       "      <td>36228.000000</td>\n",
       "      <td>36233.000000</td>\n",
       "      <td>54184.000000</td>\n",
       "      <td>54183.000000</td>\n",
       "      <td>21797.000000</td>\n",
       "      <td>622.000000</td>\n",
       "      <td>2286.0</td>\n",
       "      <td>540.0</td>\n",
       "      <td>2.0</td>\n",
       "    </tr>\n",
       "    <tr>\n",
       "      <th>mean</th>\n",
       "      <td>0.096948</td>\n",
       "      <td>0.089058</td>\n",
       "      <td>0.559048</td>\n",
       "      <td>58.200317</td>\n",
       "      <td>42.925032</td>\n",
       "      <td>50.462357</td>\n",
       "      <td>0.029582</td>\n",
       "      <td>1.0</td>\n",
       "      <td>1.0</td>\n",
       "      <td>1.0</td>\n",
       "    </tr>\n",
       "    <tr>\n",
       "      <th>std</th>\n",
       "      <td>0.306512</td>\n",
       "      <td>0.562209</td>\n",
       "      <td>1.900540</td>\n",
       "      <td>20.776471</td>\n",
       "      <td>18.985838</td>\n",
       "      <td>20.425397</td>\n",
       "      <td>0.220436</td>\n",
       "      <td>0.0</td>\n",
       "      <td>0.0</td>\n",
       "      <td>0.0</td>\n",
       "    </tr>\n",
       "    <tr>\n",
       "      <th>min</th>\n",
       "      <td>0.000000</td>\n",
       "      <td>0.000000</td>\n",
       "      <td>0.000000</td>\n",
       "      <td>-20.000000</td>\n",
       "      <td>-27.000000</td>\n",
       "      <td>-25.000000</td>\n",
       "      <td>0.000000</td>\n",
       "      <td>1.0</td>\n",
       "      <td>1.0</td>\n",
       "      <td>1.0</td>\n",
       "    </tr>\n",
       "    <tr>\n",
       "      <th>25%</th>\n",
       "      <td>0.000000</td>\n",
       "      <td>0.000000</td>\n",
       "      <td>0.000000</td>\n",
       "      <td>41.000000</td>\n",
       "      <td>30.000000</td>\n",
       "      <td>35.000000</td>\n",
       "      <td>0.000000</td>\n",
       "      <td>1.0</td>\n",
       "      <td>1.0</td>\n",
       "      <td>1.0</td>\n",
       "    </tr>\n",
       "    <tr>\n",
       "      <th>50%</th>\n",
       "      <td>0.000000</td>\n",
       "      <td>0.000000</td>\n",
       "      <td>0.000000</td>\n",
       "      <td>59.000000</td>\n",
       "      <td>43.000000</td>\n",
       "      <td>51.000000</td>\n",
       "      <td>0.000000</td>\n",
       "      <td>1.0</td>\n",
       "      <td>1.0</td>\n",
       "      <td>1.0</td>\n",
       "    </tr>\n",
       "    <tr>\n",
       "      <th>75%</th>\n",
       "      <td>0.040000</td>\n",
       "      <td>0.000000</td>\n",
       "      <td>0.000000</td>\n",
       "      <td>76.000000</td>\n",
       "      <td>59.000000</td>\n",
       "      <td>68.000000</td>\n",
       "      <td>0.000000</td>\n",
       "      <td>1.0</td>\n",
       "      <td>1.0</td>\n",
       "      <td>1.0</td>\n",
       "    </tr>\n",
       "    <tr>\n",
       "      <th>max</th>\n",
       "      <td>30.000000</td>\n",
       "      <td>16.400000</td>\n",
       "      <td>25.000000</td>\n",
       "      <td>171.000000</td>\n",
       "      <td>85.000000</td>\n",
       "      <td>101.000000</td>\n",
       "      <td>3.500000</td>\n",
       "      <td>1.0</td>\n",
       "      <td>1.0</td>\n",
       "      <td>1.0</td>\n",
       "    </tr>\n",
       "  </tbody>\n",
       "</table>\n",
       "</div>"
      ],
      "text/plain": [
       "               PRCP          SNOW          SNWD          TMAX          TMIN  \\\n",
       "count  53749.000000  36228.000000  36233.000000  54184.000000  54183.000000   \n",
       "mean       0.096948      0.089058      0.559048     58.200317     42.925032   \n",
       "std        0.306512      0.562209      1.900540     20.776471     18.985838   \n",
       "min        0.000000      0.000000      0.000000    -20.000000    -27.000000   \n",
       "25%        0.000000      0.000000      0.000000     41.000000     30.000000   \n",
       "50%        0.000000      0.000000      0.000000     59.000000     43.000000   \n",
       "75%        0.040000      0.000000      0.000000     76.000000     59.000000   \n",
       "max       30.000000     16.400000     25.000000    171.000000     85.000000   \n",
       "\n",
       "               TOBS        WESD    WT01   WT16  WT18  \n",
       "count  21797.000000  622.000000  2286.0  540.0   2.0  \n",
       "mean      50.462357    0.029582     1.0    1.0   1.0  \n",
       "std       20.425397    0.220436     0.0    0.0   0.0  \n",
       "min      -25.000000    0.000000     1.0    1.0   1.0  \n",
       "25%       35.000000    0.000000     1.0    1.0   1.0  \n",
       "50%       51.000000    0.000000     1.0    1.0   1.0  \n",
       "75%       68.000000    0.000000     1.0    1.0   1.0  \n",
       "max      101.000000    3.500000     1.0    1.0   1.0  "
      ]
     },
     "execution_count": 9,
     "metadata": {},
     "output_type": "execute_result"
    }
   ],
   "source": [
    "data.describe()"
   ]
  },
  {
   "cell_type": "code",
   "execution_count": 10,
   "metadata": {},
   "outputs": [
    {
     "name": "stdout",
     "output_type": "stream",
     "text": [
      "<class 'pandas.core.frame.DataFrame'>\n",
      "RangeIndex: 55568 entries, 0 to 55567\n",
      "Data columns (total 13 columns):\n",
      " #   Column   Non-Null Count  Dtype         \n",
      "---  ------   --------------  -----         \n",
      " 0   STATION  55568 non-null  object        \n",
      " 1   NAME     55568 non-null  object        \n",
      " 2   DATE     55568 non-null  datetime64[ns]\n",
      " 3   PRCP     53749 non-null  float64       \n",
      " 4   SNOW     36228 non-null  float64       \n",
      " 5   SNWD     36233 non-null  float64       \n",
      " 6   TMAX     54184 non-null  float64       \n",
      " 7   TMIN     54183 non-null  float64       \n",
      " 8   TOBS     21797 non-null  float64       \n",
      " 9   WESD     622 non-null    float64       \n",
      " 10  WT01     2286 non-null   float64       \n",
      " 11  WT16     540 non-null    float64       \n",
      " 12  WT18     2 non-null      float64       \n",
      "dtypes: datetime64[ns](1), float64(10), object(2)\n",
      "memory usage: 5.5+ MB\n"
     ]
    }
   ],
   "source": [
    "data.info()"
   ]
  },
  {
   "cell_type": "markdown",
   "metadata": {},
   "source": [
    "### Convert data types"
   ]
  },
  {
   "cell_type": "code",
   "execution_count": 12,
   "metadata": {},
   "outputs": [],
   "source": [
    "# Parsed date column in initial .csv read"
   ]
  },
  {
   "cell_type": "markdown",
   "metadata": {},
   "source": [
    "### Convert column names"
   ]
  },
  {
   "cell_type": "code",
   "execution_count": 14,
   "metadata": {},
   "outputs": [
    {
     "data": {
      "text/plain": [
       "array(['STATION', 'NAME', 'DATE', 'PRCP', 'SNOW', 'SNWD', 'TMAX', 'TMIN',\n",
       "       'TOBS', 'WESD', 'WT01', 'WT16', 'WT18'], dtype=object)"
      ]
     },
     "execution_count": 14,
     "metadata": {},
     "output_type": "execute_result"
    }
   ],
   "source": [
    "data.columns.values"
   ]
  },
  {
   "cell_type": "code",
   "execution_count": 17,
   "metadata": {},
   "outputs": [],
   "source": [
    "data = data.rename(columns={'PRCP':'Precipitation (in)', 'SNOW':'Snowfall (in)', 'SNWD':'Snow Depth (in)', 'TMAX':'Max. Temp (degF)', 'TMIN':'Min. Temp (degF)',\n",
    "       'TOBS':'Observed Temp (degF)', 'WESD':'Water Equivalent to Snow'})"
   ]
  },
  {
   "cell_type": "code",
   "execution_count": 19,
   "metadata": {},
   "outputs": [
    {
     "name": "stdout",
     "output_type": "stream",
     "text": [
      "<class 'pandas.core.frame.DataFrame'>\n",
      "RangeIndex: 55568 entries, 0 to 55567\n",
      "Data columns (total 13 columns):\n",
      " #   Column                    Non-Null Count  Dtype         \n",
      "---  ------                    --------------  -----         \n",
      " 0   STATION                   55568 non-null  object        \n",
      " 1   NAME                      55568 non-null  object        \n",
      " 2   DATE                      55568 non-null  datetime64[ns]\n",
      " 3   Precipitation (in)        53749 non-null  float64       \n",
      " 4   Snowfall (in)             36228 non-null  float64       \n",
      " 5   Snow Depth (in)           36233 non-null  float64       \n",
      " 6   Max. Temp (degF)          54184 non-null  float64       \n",
      " 7   Min. Temp (degF)          54183 non-null  float64       \n",
      " 8   Observed Temp (degF)      21797 non-null  float64       \n",
      " 9   Water Equivalent to Snow  622 non-null    float64       \n",
      " 10  WT01                      2286 non-null   float64       \n",
      " 11  WT16                      540 non-null    float64       \n",
      " 12  WT18                      2 non-null      float64       \n",
      "dtypes: datetime64[ns](1), float64(10), object(2)\n",
      "memory usage: 5.5+ MB\n"
     ]
    }
   ],
   "source": [
    "data.info()"
   ]
  },
  {
   "cell_type": "markdown",
   "metadata": {},
   "source": [
    "### Drop column values with high Null occurrences"
   ]
  },
  {
   "cell_type": "code",
   "execution_count": 21,
   "metadata": {},
   "outputs": [
    {
     "name": "stdout",
     "output_type": "stream",
     "text": [
      "<class 'pandas.core.frame.DataFrame'>\n",
      "RangeIndex: 55568 entries, 0 to 55567\n",
      "Data columns (total 9 columns):\n",
      " #   Column                Non-Null Count  Dtype         \n",
      "---  ------                --------------  -----         \n",
      " 0   STATION               55568 non-null  object        \n",
      " 1   NAME                  55568 non-null  object        \n",
      " 2   DATE                  55568 non-null  datetime64[ns]\n",
      " 3   Precipitation (in)    53749 non-null  float64       \n",
      " 4   Snowfall (in)         36228 non-null  float64       \n",
      " 5   Snow Depth (in)       36233 non-null  float64       \n",
      " 6   Max. Temp (degF)      54184 non-null  float64       \n",
      " 7   Min. Temp (degF)      54183 non-null  float64       \n",
      " 8   Observed Temp (degF)  21797 non-null  float64       \n",
      "dtypes: datetime64[ns](1), float64(6), object(2)\n",
      "memory usage: 3.8+ MB\n"
     ]
    }
   ],
   "source": [
    "data_drop = data.drop(['Water Equivalent to Snow', 'WT01', 'WT16', 'WT18'], axis=1)\n",
    "data_drop.info()"
   ]
  },
  {
   "cell_type": "markdown",
   "metadata": {},
   "source": [
    "### Investigate different weater stations and divide data"
   ]
  },
  {
   "cell_type": "code",
   "execution_count": 24,
   "metadata": {},
   "outputs": [
    {
     "data": {
      "text/plain": [
       "array(['CHICAGO LAKEVIEW PUMP, IL US', 'CHICAGO BOTANIC GARDEN, IL US',\n",
       "       'CHICAGO GRANT PARK, IL US',\n",
       "       'CHICAGO WEATHER BUREAU CITY 2, IL US',\n",
       "       'CHICAGO UNIVERSITY, IL US'], dtype=object)"
      ]
     },
     "execution_count": 24,
     "metadata": {},
     "output_type": "execute_result"
    }
   ],
   "source": [
    "data_drop['NAME'].unique()"
   ]
  },
  {
   "cell_type": "code",
   "execution_count": 38,
   "metadata": {},
   "outputs": [],
   "source": [
    "data_lakeview = data_drop[data_drop['NAME']=='CHICAGO LAKEVIEW PUMP, IL US']\n",
    "#data_lakeview.info() # Good for precipitation and snowfall. Not temperature. Snowfall has 90% null values."
   ]
  },
  {
   "cell_type": "code",
   "execution_count": 39,
   "metadata": {},
   "outputs": [
    {
     "name": "stdout",
     "output_type": "stream",
     "text": [
      "Lakeview Start Date: 1948-07-01, and End Date:1951-09-30.\n"
     ]
    }
   ],
   "source": [
    "print('Lakeview Start Date: {}, and End Date:{}.'.format(min(data_lakeview['DATE']).date(), max(data_lakeview['DATE']).date()))"
   ]
  },
  {
   "cell_type": "code",
   "execution_count": 57,
   "metadata": {},
   "outputs": [
    {
     "name": "stdout",
     "output_type": "stream",
     "text": [
      "<class 'pandas.core.frame.DataFrame'>\n",
      "Int64Index: 13666 entries, 1120 to 14785\n",
      "Data columns (total 9 columns):\n",
      " #   Column                Non-Null Count  Dtype         \n",
      "---  ------                --------------  -----         \n",
      " 0   STATION               13666 non-null  object        \n",
      " 1   NAME                  13666 non-null  object        \n",
      " 2   DATE                  13666 non-null  datetime64[ns]\n",
      " 3   Precipitation (in)    13636 non-null  float64       \n",
      " 4   Snowfall (in)         13347 non-null  float64       \n",
      " 5   Snow Depth (in)       13263 non-null  float64       \n",
      " 6   Max. Temp (degF)      13563 non-null  float64       \n",
      " 7   Min. Temp (degF)      13564 non-null  float64       \n",
      " 8   Observed Temp (degF)  13497 non-null  float64       \n",
      "dtypes: datetime64[ns](1), float64(6), object(2)\n",
      "memory usage: 1.0+ MB\n"
     ]
    }
   ],
   "source": [
    "data_botanic = data_drop[data_drop['NAME']=='CHICAGO BOTANIC GARDEN, IL US']\n",
    "data_botanic.info() #Solid all around data. Some null values."
   ]
  },
  {
   "cell_type": "code",
   "execution_count": 41,
   "metadata": {},
   "outputs": [
    {
     "name": "stdout",
     "output_type": "stream",
     "text": [
      "Botanic Start Date: 1981-10-01, and End Date:2019-06-05.\n"
     ]
    }
   ],
   "source": [
    "print('Botanic Start Date: {}, and End Date:{}.'.format(min(data_botanic['DATE']).date(), max(data_botanic['DATE']).date()))"
   ]
  },
  {
   "cell_type": "code",
   "execution_count": 43,
   "metadata": {},
   "outputs": [],
   "source": [
    "data_grant = data_drop[data_drop['NAME']=='CHICAGO GRANT PARK, IL US']\n",
    "# data_grant.info() #Good for min. and max. temp. Only 4-5 years of data."
   ]
  },
  {
   "cell_type": "code",
   "execution_count": 44,
   "metadata": {},
   "outputs": [
    {
     "name": "stdout",
     "output_type": "stream",
     "text": [
      "Grant Park Start Date: 1972-01-01, and End Date:1976-09-30.\n"
     ]
    }
   ],
   "source": [
    "print('Grant Park Start Date: {}, and End Date:{}.'.format(min(data_grant['DATE']).date(), max(data_grant['DATE']).date()))"
   ]
  },
  {
   "cell_type": "code",
   "execution_count": 46,
   "metadata": {},
   "outputs": [],
   "source": [
    "data_chicago = data_drop[data_drop['NAME']=='CHICAGO WEATHER BUREAU CITY 2, IL US']\n",
    "# data_chicago.info() #Solid data for precipitation, snow, and temperature."
   ]
  },
  {
   "cell_type": "code",
   "execution_count": 52,
   "metadata": {},
   "outputs": [
    {
     "name": "stdout",
     "output_type": "stream",
     "text": [
      "Chicago Start Date: 1836-07-01, and End Date:1965-02-28.\n"
     ]
    }
   ],
   "source": [
    "print('Chicago Start Date: {}, and End Date:{}.'.format(min(data_chicago['DATE']).date(), max(data_chicago['DATE']).date()))"
   ]
  },
  {
   "cell_type": "code",
   "execution_count": 49,
   "metadata": {},
   "outputs": [],
   "source": [
    "data_uni = data_drop[data_drop['NAME']=='CHICAGO UNIVERSITY, IL US']\n",
    "# data_uni.info() #Solid data for precipitation, snow, and temperature."
   ]
  },
  {
   "cell_type": "code",
   "execution_count": 53,
   "metadata": {},
   "outputs": [
    {
     "name": "stdout",
     "output_type": "stream",
     "text": [
      "Chicago Uni Start Date: 1926-01-01, and End Date:1994-10-31.\n"
     ]
    }
   ],
   "source": [
    "print('Chicago Uni Start Date: {}, and End Date:{}.'.format(min(data_uni['DATE']).date(), max(data_uni['DATE']).date()))"
   ]
  },
  {
   "cell_type": "markdown",
   "metadata": {},
   "source": [
    "### Graphs of Data"
   ]
  },
  {
   "cell_type": "code",
   "execution_count": 60,
   "metadata": {},
   "outputs": [
    {
     "data": {
      "text/plain": [
       "<AxesSubplot:xlabel='DATE', ylabel='Max. Temp (degF)'>"
      ]
     },
     "execution_count": 60,
     "metadata": {},
     "output_type": "execute_result"
    },
    {
     "data": {
      "image/png": "[encoded data removed]",
      "text/plain": [
       "<Figure size 432x288 with 1 Axes>"
      ]
     },
     "metadata": {},
     "output_type": "display_data"
    }
   ],
   "source": [
    "sns.scatterplot(x='DATE', y='Max. Temp (degF)', data = data_grant)"
   ]
  },
  {
   "cell_type": "code",
   "execution_count": 61,
   "metadata": {},
   "outputs": [
    {
     "data": {
      "text/plain": [
       "<AxesSubplot:xlabel='DATE', ylabel='Snowfall (in)'>"
      ]
     },
     "execution_count": 61,
     "metadata": {},
     "output_type": "execute_result"
    },
    {
     "data": {
      "image/png": "[encoded data removed]",
      "text/plain": [
       "<Figure size 432x288 with 1 Axes>"
      ]
     },
     "metadata": {},
     "output_type": "display_data"
    }
   ],
   "source": [
    "sns.scatterplot(x='DATE', y='Snowfall (in)', data = data_botanic)"
   ]
  },
  {
   "cell_type": "code",
   "execution_count": 56,
   "metadata": {},
   "outputs": [],
   "source": [
    "# Difficult to visualize years worth of data."
   ]
  },
  {
   "cell_type": "markdown",
   "metadata": {},
   "source": [
    "### Create Functions to Organize Data"
   ]
  },
  {
   "cell_type": "code",
   "execution_count": 58,
   "metadata": {},
   "outputs": [],
   "source": [
    "# Can use .dropna() to remove null values."
   ]
  },
  {
   "cell_type": "code",
   "execution_count": 83,
   "metadata": {},
   "outputs": [],
   "source": [
    "# Index date; create separate column information for year, month, and day; shift max temp by 1 day, 30 days, and 1 year.\n",
    "def date_arrange(df):\n",
    "    indexed_df = df.set_index(df['DATE'])\n",
    "    indexed_df['YEAR'] = indexed_df['DATE'].dt.year\n",
    "    indexed_df['MONTH'] = indexed_df['DATE'].dt.month\n",
    "    indexed_df['DAY'] = indexed_df['DATE'].dt.day\n",
    "    \n",
    "#     indexed_df['Shift Year'] = indexed_df['DATE'].shift(1, freq ='W').dt.year\n",
    "#     indexed_df['Shift Month'] = indexed_df['DATE'].shift(1, freq ='M').dt.month\n",
    "#     indexed_df['Shift Day'] = indexed_df['DATE'].shift(1, freq ='D').dt.day\n",
    "\n",
    "    indexed_df['Max Temp (yest)'] = indexed_df['Max. Temp (degF)'].shift(1)\n",
    "    indexed_df['Max Temp (30 ago)'] = indexed_df['Max. Temp (degF)'].shift(30)\n",
    "    indexed_df['Max Temp (year ago)'] = indexed_df['Max. Temp (degF)'].shift(365)\n",
    "    return indexed_df"
   ]
  },
  {
   "cell_type": "code",
   "execution_count": null,
   "metadata": {},
   "outputs": [],
   "source": []
  },
  {
   "cell_type": "code",
   "execution_count": null,
   "metadata": {},
   "outputs": [],
   "source": []
  },
  {
   "cell_type": "markdown",
   "metadata": {},
   "source": [
    "### Clean botanic data"
   ]
  },
  {
   "cell_type": "code",
   "execution_count": 89,
   "metadata": {},
   "outputs": [],
   "source": [
    "botanic = date_arrange(data_botanic)\n",
    "botanic_dropna = botanic.dropna()"
   ]
  },
  {
   "cell_type": "code",
   "execution_count": 90,
   "metadata": {},
   "outputs": [
    {
     "data": {
      "text/plain": [
       "array(['STATION', 'NAME', 'DATE', 'Precipitation (in)', 'Snowfall (in)',\n",
       "       'Snow Depth (in)', 'Max. Temp (degF)', 'Min. Temp (degF)',\n",
       "       'Observed Temp (degF)', 'YEAR', 'MONTH', 'DAY', 'Max Temp (yest)',\n",
       "       'Max Temp (30 ago)', 'Max Temp (year ago)'], dtype=object)"
      ]
     },
     "execution_count": 90,
     "metadata": {},
     "output_type": "execute_result"
    }
   ],
   "source": [
    "botanic_dropna.columns.values"
   ]
  },
  {
   "cell_type": "code",
   "execution_count": 93,
   "metadata": {},
   "outputs": [
    {
     "data": {
      "text/html": [
       "<div>\n",
       "<style scoped>\n",
       "    .dataframe tbody tr th:only-of-type {\n",
       "        vertical-align: middle;\n",
       "    }\n",
       "\n",
       "    .dataframe tbody tr th {\n",
       "        vertical-align: top;\n",
       "    }\n",
       "\n",
       "    .dataframe thead th {\n",
       "        text-align: right;\n",
       "    }\n",
       "</style>\n",
       "<table border=\"1\" class=\"dataframe\">\n",
       "  <thead>\n",
       "    <tr style=\"text-align: right;\">\n",
       "      <th></th>\n",
       "      <th>Precipitation (in)</th>\n",
       "      <th>Snowfall (in)</th>\n",
       "      <th>Snow Depth (in)</th>\n",
       "      <th>Max. Temp (degF)</th>\n",
       "      <th>Min. Temp (degF)</th>\n",
       "      <th>Observed Temp (degF)</th>\n",
       "      <th>YEAR</th>\n",
       "      <th>MONTH</th>\n",
       "      <th>DAY</th>\n",
       "      <th>Max Temp (yest)</th>\n",
       "      <th>Max Temp (30 ago)</th>\n",
       "      <th>Max Temp (year ago)</th>\n",
       "    </tr>\n",
       "    <tr>\n",
       "      <th>DATE</th>\n",
       "      <th></th>\n",
       "      <th></th>\n",
       "      <th></th>\n",
       "      <th></th>\n",
       "      <th></th>\n",
       "      <th></th>\n",
       "      <th></th>\n",
       "      <th></th>\n",
       "      <th></th>\n",
       "      <th></th>\n",
       "      <th></th>\n",
       "      <th></th>\n",
       "    </tr>\n",
       "  </thead>\n",
       "  <tbody>\n",
       "    <tr>\n",
       "      <th>1982-12-01</th>\n",
       "      <td>0.00</td>\n",
       "      <td>0.0</td>\n",
       "      <td>0.0</td>\n",
       "      <td>54.0</td>\n",
       "      <td>49.0</td>\n",
       "      <td>52.0</td>\n",
       "      <td>1982</td>\n",
       "      <td>12</td>\n",
       "      <td>1</td>\n",
       "      <td>50.0</td>\n",
       "      <td>65.0</td>\n",
       "      <td>44.0</td>\n",
       "    </tr>\n",
       "    <tr>\n",
       "      <th>1982-12-02</th>\n",
       "      <td>0.46</td>\n",
       "      <td>0.0</td>\n",
       "      <td>0.0</td>\n",
       "      <td>64.0</td>\n",
       "      <td>51.0</td>\n",
       "      <td>59.0</td>\n",
       "      <td>1982</td>\n",
       "      <td>12</td>\n",
       "      <td>2</td>\n",
       "      <td>54.0</td>\n",
       "      <td>65.0</td>\n",
       "      <td>45.0</td>\n",
       "    </tr>\n",
       "    <tr>\n",
       "      <th>1982-12-03</th>\n",
       "      <td>2.79</td>\n",
       "      <td>0.0</td>\n",
       "      <td>0.0</td>\n",
       "      <td>66.0</td>\n",
       "      <td>58.0</td>\n",
       "      <td>62.0</td>\n",
       "      <td>1982</td>\n",
       "      <td>12</td>\n",
       "      <td>3</td>\n",
       "      <td>64.0</td>\n",
       "      <td>54.0</td>\n",
       "      <td>36.0</td>\n",
       "    </tr>\n",
       "    <tr>\n",
       "      <th>1982-12-04</th>\n",
       "      <td>0.01</td>\n",
       "      <td>0.0</td>\n",
       "      <td>0.0</td>\n",
       "      <td>62.0</td>\n",
       "      <td>37.0</td>\n",
       "      <td>39.0</td>\n",
       "      <td>1982</td>\n",
       "      <td>12</td>\n",
       "      <td>4</td>\n",
       "      <td>66.0</td>\n",
       "      <td>45.0</td>\n",
       "      <td>40.0</td>\n",
       "    </tr>\n",
       "    <tr>\n",
       "      <th>1982-12-05</th>\n",
       "      <td>0.69</td>\n",
       "      <td>0.0</td>\n",
       "      <td>0.0</td>\n",
       "      <td>48.0</td>\n",
       "      <td>39.0</td>\n",
       "      <td>48.0</td>\n",
       "      <td>1982</td>\n",
       "      <td>12</td>\n",
       "      <td>5</td>\n",
       "      <td>62.0</td>\n",
       "      <td>33.0</td>\n",
       "      <td>36.0</td>\n",
       "    </tr>\n",
       "  </tbody>\n",
       "</table>\n",
       "</div>"
      ],
      "text/plain": [
       "            Precipitation (in)  Snowfall (in)  Snow Depth (in)  \\\n",
       "DATE                                                             \n",
       "1982-12-01                0.00            0.0              0.0   \n",
       "1982-12-02                0.46            0.0              0.0   \n",
       "1982-12-03                2.79            0.0              0.0   \n",
       "1982-12-04                0.01            0.0              0.0   \n",
       "1982-12-05                0.69            0.0              0.0   \n",
       "\n",
       "            Max. Temp (degF)  Min. Temp (degF)  Observed Temp (degF)  YEAR  \\\n",
       "DATE                                                                         \n",
       "1982-12-01              54.0              49.0                  52.0  1982   \n",
       "1982-12-02              64.0              51.0                  59.0  1982   \n",
       "1982-12-03              66.0              58.0                  62.0  1982   \n",
       "1982-12-04              62.0              37.0                  39.0  1982   \n",
       "1982-12-05              48.0              39.0                  48.0  1982   \n",
       "\n",
       "            MONTH  DAY  Max Temp (yest)  Max Temp (30 ago)  \\\n",
       "DATE                                                         \n",
       "1982-12-01     12    1             50.0               65.0   \n",
       "1982-12-02     12    2             54.0               65.0   \n",
       "1982-12-03     12    3             64.0               54.0   \n",
       "1982-12-04     12    4             66.0               45.0   \n",
       "1982-12-05     12    5             62.0               33.0   \n",
       "\n",
       "            Max Temp (year ago)  \n",
       "DATE                             \n",
       "1982-12-01                 44.0  \n",
       "1982-12-02                 45.0  \n",
       "1982-12-03                 36.0  \n",
       "1982-12-04                 40.0  \n",
       "1982-12-05                 36.0  "
      ]
     },
     "execution_count": 93,
     "metadata": {},
     "output_type": "execute_result"
    }
   ],
   "source": [
    "botanic_final = botanic_dropna.drop(['STATION', 'NAME', 'DATE'], axis=1)\n",
    "botanic_final.head()"
   ]
  },
  {
   "cell_type": "markdown",
   "metadata": {},
   "source": [
    "### Set target and features"
   ]
  },
  {
   "cell_type": "code",
   "execution_count": 94,
   "metadata": {},
   "outputs": [],
   "source": [
    "botanic_target = botanic_final['Max. Temp (degF)']\n",
    "botanic_features = botanic_final.drop(['Precipitation (in)', 'Snowfall (in)',\n",
    "       'Snow Depth (in)', 'Max. Temp (degF)', 'Min. Temp (degF)',\n",
    "       'Observed Temp (degF)'], axis=1)"
   ]
  },
  {
   "cell_type": "code",
   "execution_count": 101,
   "metadata": {},
   "outputs": [
    {
     "data": {
      "text/plain": [
       "DATE\n",
       "2019-05-31    77.0\n",
       "2019-06-01    85.0\n",
       "2019-06-02    75.0\n",
       "2019-06-03    69.0\n",
       "2019-06-05    82.0\n",
       "Name: Max. Temp (degF), dtype: float64"
      ]
     },
     "execution_count": 101,
     "metadata": {},
     "output_type": "execute_result"
    }
   ],
   "source": [
    "botanic_target.tail()"
   ]
  },
  {
   "cell_type": "code",
   "execution_count": 102,
   "metadata": {},
   "outputs": [
    {
     "data": {
      "text/html": [
       "<div>\n",
       "<style scoped>\n",
       "    .dataframe tbody tr th:only-of-type {\n",
       "        vertical-align: middle;\n",
       "    }\n",
       "\n",
       "    .dataframe tbody tr th {\n",
       "        vertical-align: top;\n",
       "    }\n",
       "\n",
       "    .dataframe thead th {\n",
       "        text-align: right;\n",
       "    }\n",
       "</style>\n",
       "<table border=\"1\" class=\"dataframe\">\n",
       "  <thead>\n",
       "    <tr style=\"text-align: right;\">\n",
       "      <th></th>\n",
       "      <th>YEAR</th>\n",
       "      <th>MONTH</th>\n",
       "      <th>DAY</th>\n",
       "      <th>Max Temp (yest)</th>\n",
       "      <th>Max Temp (30 ago)</th>\n",
       "      <th>Max Temp (year ago)</th>\n",
       "    </tr>\n",
       "    <tr>\n",
       "      <th>DATE</th>\n",
       "      <th></th>\n",
       "      <th></th>\n",
       "      <th></th>\n",
       "      <th></th>\n",
       "      <th></th>\n",
       "      <th></th>\n",
       "    </tr>\n",
       "  </thead>\n",
       "  <tbody>\n",
       "    <tr>\n",
       "      <th>2019-05-31</th>\n",
       "      <td>2019</td>\n",
       "      <td>5</td>\n",
       "      <td>31</td>\n",
       "      <td>69.0</td>\n",
       "      <td>50.0</td>\n",
       "      <td>84.0</td>\n",
       "    </tr>\n",
       "    <tr>\n",
       "      <th>2019-06-01</th>\n",
       "      <td>2019</td>\n",
       "      <td>6</td>\n",
       "      <td>1</td>\n",
       "      <td>77.0</td>\n",
       "      <td>58.0</td>\n",
       "      <td>89.0</td>\n",
       "    </tr>\n",
       "    <tr>\n",
       "      <th>2019-06-02</th>\n",
       "      <td>2019</td>\n",
       "      <td>6</td>\n",
       "      <td>2</td>\n",
       "      <td>85.0</td>\n",
       "      <td>46.0</td>\n",
       "      <td>60.0</td>\n",
       "    </tr>\n",
       "    <tr>\n",
       "      <th>2019-06-03</th>\n",
       "      <td>2019</td>\n",
       "      <td>6</td>\n",
       "      <td>3</td>\n",
       "      <td>75.0</td>\n",
       "      <td>52.0</td>\n",
       "      <td>63.0</td>\n",
       "    </tr>\n",
       "    <tr>\n",
       "      <th>2019-06-05</th>\n",
       "      <td>2019</td>\n",
       "      <td>6</td>\n",
       "      <td>5</td>\n",
       "      <td>69.0</td>\n",
       "      <td>60.0</td>\n",
       "      <td>78.0</td>\n",
       "    </tr>\n",
       "  </tbody>\n",
       "</table>\n",
       "</div>"
      ],
      "text/plain": [
       "            YEAR  MONTH  DAY  Max Temp (yest)  Max Temp (30 ago)  \\\n",
       "DATE                                                               \n",
       "2019-05-31  2019      5   31             69.0               50.0   \n",
       "2019-06-01  2019      6    1             77.0               58.0   \n",
       "2019-06-02  2019      6    2             85.0               46.0   \n",
       "2019-06-03  2019      6    3             75.0               52.0   \n",
       "2019-06-05  2019      6    5             69.0               60.0   \n",
       "\n",
       "            Max Temp (year ago)  \n",
       "DATE                             \n",
       "2019-05-31                 84.0  \n",
       "2019-06-01                 89.0  \n",
       "2019-06-02                 60.0  \n",
       "2019-06-03                 63.0  \n",
       "2019-06-05                 78.0  "
      ]
     },
     "execution_count": 102,
     "metadata": {},
     "output_type": "execute_result"
    }
   ],
   "source": [
    "botanic_features.tail()"
   ]
  },
  {
   "cell_type": "markdown",
   "metadata": {},
   "source": [
    "### Test some regressions\n"
   ]
  },
  {
   "cell_type": "code",
   "execution_count": 99,
   "metadata": {},
   "outputs": [],
   "source": [
    "# Linear regression\n",
    "from sklearn.linear_model import LinearRegression\n",
    "regression = LinearRegression()\n",
    "model = regression.fit(botanic_features, botanic_target)"
   ]
  },
  {
   "cell_type": "code",
   "execution_count": 100,
   "metadata": {},
   "outputs": [
    {
     "data": {
      "text/plain": [
       "array([-0.00650663, -0.17338251,  0.0071895 ,  0.75549072,  0.07052148,\n",
       "        0.14668274])"
      ]
     },
     "execution_count": 100,
     "metadata": {},
     "output_type": "execute_result"
    }
   ],
   "source": [
    "model.coef_"
   ]
  },
  {
   "cell_type": "code",
   "execution_count": 106,
   "metadata": {},
   "outputs": [],
   "source": [
    "predict = model.predict(botanic_features)"
   ]
  },
  {
   "cell_type": "code",
   "execution_count": 143,
   "metadata": {},
   "outputs": [
    {
     "data": {
      "text/html": [
       "<div>\n",
       "<style scoped>\n",
       "    .dataframe tbody tr th:only-of-type {\n",
       "        vertical-align: middle;\n",
       "    }\n",
       "\n",
       "    .dataframe tbody tr th {\n",
       "        vertical-align: top;\n",
       "    }\n",
       "\n",
       "    .dataframe thead th {\n",
       "        text-align: right;\n",
       "    }\n",
       "</style>\n",
       "<table border=\"1\" class=\"dataframe\">\n",
       "  <thead>\n",
       "    <tr style=\"text-align: right;\">\n",
       "      <th></th>\n",
       "      <th>Predictions</th>\n",
       "    </tr>\n",
       "    <tr>\n",
       "      <th>DATE</th>\n",
       "      <th></th>\n",
       "    </tr>\n",
       "  </thead>\n",
       "  <tbody>\n",
       "    <tr>\n",
       "      <th>2019-05-31</th>\n",
       "      <td>69.820032</td>\n",
       "    </tr>\n",
       "    <tr>\n",
       "      <th>2019-06-01</th>\n",
       "      <td>76.772476</td>\n",
       "    </tr>\n",
       "    <tr>\n",
       "      <th>2019-06-02</th>\n",
       "      <td>77.723534</td>\n",
       "    </tr>\n",
       "    <tr>\n",
       "      <th>2019-06-03</th>\n",
       "      <td>71.038994</td>\n",
       "    </tr>\n",
       "    <tr>\n",
       "      <th>2019-06-05</th>\n",
       "      <td>69.284841</td>\n",
       "    </tr>\n",
       "  </tbody>\n",
       "</table>\n",
       "</div>"
      ],
      "text/plain": [
       "            Predictions\n",
       "DATE                   \n",
       "2019-05-31    69.820032\n",
       "2019-06-01    76.772476\n",
       "2019-06-02    77.723534\n",
       "2019-06-03    71.038994\n",
       "2019-06-05    69.284841"
      ]
     },
     "execution_count": 143,
     "metadata": {},
     "output_type": "execute_result"
    }
   ],
   "source": [
    "predictions = pd.DataFrame(predict, columns = ['Predictions'], index=botanic_target.index)\n",
    "predictions.tail()"
   ]
  },
  {
   "cell_type": "code",
   "execution_count": 111,
   "metadata": {},
   "outputs": [
    {
     "data": {
      "text/html": [
       "<div>\n",
       "<style scoped>\n",
       "    .dataframe tbody tr th:only-of-type {\n",
       "        vertical-align: middle;\n",
       "    }\n",
       "\n",
       "    .dataframe tbody tr th {\n",
       "        vertical-align: top;\n",
       "    }\n",
       "\n",
       "    .dataframe thead th {\n",
       "        text-align: right;\n",
       "    }\n",
       "</style>\n",
       "<table border=\"1\" class=\"dataframe\">\n",
       "  <thead>\n",
       "    <tr style=\"text-align: right;\">\n",
       "      <th></th>\n",
       "      <th>Actual</th>\n",
       "      <th>Predictions</th>\n",
       "    </tr>\n",
       "    <tr>\n",
       "      <th>DATE</th>\n",
       "      <th></th>\n",
       "      <th></th>\n",
       "    </tr>\n",
       "  </thead>\n",
       "  <tbody>\n",
       "    <tr>\n",
       "      <th>2019-05-31</th>\n",
       "      <td>77.0</td>\n",
       "      <td>69.820032</td>\n",
       "    </tr>\n",
       "    <tr>\n",
       "      <th>2019-06-01</th>\n",
       "      <td>85.0</td>\n",
       "      <td>76.772476</td>\n",
       "    </tr>\n",
       "    <tr>\n",
       "      <th>2019-06-02</th>\n",
       "      <td>75.0</td>\n",
       "      <td>77.723534</td>\n",
       "    </tr>\n",
       "    <tr>\n",
       "      <th>2019-06-03</th>\n",
       "      <td>69.0</td>\n",
       "      <td>71.038994</td>\n",
       "    </tr>\n",
       "    <tr>\n",
       "      <th>2019-06-05</th>\n",
       "      <td>82.0</td>\n",
       "      <td>69.284841</td>\n",
       "    </tr>\n",
       "  </tbody>\n",
       "</table>\n",
       "</div>"
      ],
      "text/plain": [
       "            Actual  Predictions\n",
       "DATE                           \n",
       "2019-05-31    77.0    69.820032\n",
       "2019-06-01    85.0    76.772476\n",
       "2019-06-02    75.0    77.723534\n",
       "2019-06-03    69.0    71.038994\n",
       "2019-06-05    82.0    69.284841"
      ]
     },
     "execution_count": 111,
     "metadata": {},
     "output_type": "execute_result"
    }
   ],
   "source": [
    "botanic_compare = pd.DataFrame() \n",
    "botanic_compare['Actual'] = botanic_target\n",
    "botanic_compare['Predictions'] = predictions\n",
    "\n",
    "botanic_compare.tail()"
   ]
  },
  {
   "cell_type": "markdown",
   "metadata": {},
   "source": [
    "### Scatter Plot of Actual vs. Predictions"
   ]
  },
  {
   "cell_type": "code",
   "execution_count": 112,
   "metadata": {},
   "outputs": [
    {
     "data": {
      "text/plain": [
       "<AxesSubplot:xlabel='Actual', ylabel='Predictions'>"
      ]
     },
     "execution_count": 112,
     "metadata": {},
     "output_type": "execute_result"
    },
    {
     "data": {
      "image/png": "[encoded data removed]",
      "text/plain": [
       "<Figure size 432x288 with 1 Axes>"
      ]
     },
     "metadata": {},
     "output_type": "display_data"
    }
   ],
   "source": [
    "sns.scatterplot(x='Actual', y='Predictions', data=botanic_compare)"
   ]
  },
  {
   "cell_type": "code",
   "execution_count": 124,
   "metadata": {},
   "outputs": [
    {
     "data": {
      "text/plain": [
       "<AxesSubplot:xlabel='DATE'>"
      ]
     },
     "execution_count": 124,
     "metadata": {},
     "output_type": "execute_result"
    },
    {
     "data": {
      "image/png": "[encoded data removed]",
      "text/plain": [
       "<Figure size 842.4x595.44 with 1 Axes>"
      ]
     },
     "metadata": {},
     "output_type": "display_data"
    }
   ],
   "source": [
    "a4_dims = (11.7, 8.27)\n",
    "fig, ax = plt.subplots(figsize=a4_dims)\n",
    "\n",
    "sns.lineplot(data=botanic_compare.loc['2015-01-01':])"
   ]
  },
  {
   "cell_type": "code",
   "execution_count": 125,
   "metadata": {},
   "outputs": [
    {
     "data": {
      "text/html": [
       "<div>\n",
       "<style scoped>\n",
       "    .dataframe tbody tr th:only-of-type {\n",
       "        vertical-align: middle;\n",
       "    }\n",
       "\n",
       "    .dataframe tbody tr th {\n",
       "        vertical-align: top;\n",
       "    }\n",
       "\n",
       "    .dataframe thead th {\n",
       "        text-align: right;\n",
       "    }\n",
       "</style>\n",
       "<table border=\"1\" class=\"dataframe\">\n",
       "  <thead>\n",
       "    <tr style=\"text-align: right;\">\n",
       "      <th></th>\n",
       "      <th>Actual</th>\n",
       "      <th>Predictions</th>\n",
       "    </tr>\n",
       "  </thead>\n",
       "  <tbody>\n",
       "    <tr>\n",
       "      <th>count</th>\n",
       "      <td>1459.000000</td>\n",
       "      <td>1459.000000</td>\n",
       "    </tr>\n",
       "    <tr>\n",
       "      <th>mean</th>\n",
       "      <td>56.687457</td>\n",
       "      <td>56.683589</td>\n",
       "    </tr>\n",
       "    <tr>\n",
       "      <th>std</th>\n",
       "      <td>20.909129</td>\n",
       "      <td>19.163698</td>\n",
       "    </tr>\n",
       "    <tr>\n",
       "      <th>min</th>\n",
       "      <td>-10.000000</td>\n",
       "      <td>2.869623</td>\n",
       "    </tr>\n",
       "    <tr>\n",
       "      <th>25%</th>\n",
       "      <td>40.000000</td>\n",
       "      <td>40.783374</td>\n",
       "    </tr>\n",
       "    <tr>\n",
       "      <th>50%</th>\n",
       "      <td>56.000000</td>\n",
       "      <td>55.499426</td>\n",
       "    </tr>\n",
       "    <tr>\n",
       "      <th>75%</th>\n",
       "      <td>75.000000</td>\n",
       "      <td>74.673416</td>\n",
       "    </tr>\n",
       "    <tr>\n",
       "      <th>max</th>\n",
       "      <td>97.000000</td>\n",
       "      <td>92.559359</td>\n",
       "    </tr>\n",
       "  </tbody>\n",
       "</table>\n",
       "</div>"
      ],
      "text/plain": [
       "            Actual  Predictions\n",
       "count  1459.000000  1459.000000\n",
       "mean     56.687457    56.683589\n",
       "std      20.909129    19.163698\n",
       "min     -10.000000     2.869623\n",
       "25%      40.000000    40.783374\n",
       "50%      56.000000    55.499426\n",
       "75%      75.000000    74.673416\n",
       "max      97.000000    92.559359"
      ]
     },
     "execution_count": 125,
     "metadata": {},
     "output_type": "execute_result"
    }
   ],
   "source": [
    "botanic_compare.loc['2015-01-01':].describe()"
   ]
  },
  {
   "cell_type": "markdown",
   "metadata": {},
   "source": [
    "### Predict following day(s)"
   ]
  },
  {
   "cell_type": "code",
   "execution_count": 147,
   "metadata": {},
   "outputs": [
    {
     "data": {
      "text/html": [
       "<div>\n",
       "<style scoped>\n",
       "    .dataframe tbody tr th:only-of-type {\n",
       "        vertical-align: middle;\n",
       "    }\n",
       "\n",
       "    .dataframe tbody tr th {\n",
       "        vertical-align: top;\n",
       "    }\n",
       "\n",
       "    .dataframe thead th {\n",
       "        text-align: right;\n",
       "    }\n",
       "</style>\n",
       "<table border=\"1\" class=\"dataframe\">\n",
       "  <thead>\n",
       "    <tr style=\"text-align: right;\">\n",
       "      <th></th>\n",
       "      <th>YEAR</th>\n",
       "      <th>MONTH</th>\n",
       "      <th>DAY</th>\n",
       "      <th>Max Temp (yest)</th>\n",
       "      <th>Max Temp (30 ago)</th>\n",
       "      <th>Max Temp (year ago)</th>\n",
       "    </tr>\n",
       "    <tr>\n",
       "      <th>DATE</th>\n",
       "      <th></th>\n",
       "      <th></th>\n",
       "      <th></th>\n",
       "      <th></th>\n",
       "      <th></th>\n",
       "      <th></th>\n",
       "    </tr>\n",
       "  </thead>\n",
       "  <tbody>\n",
       "    <tr>\n",
       "      <th>2018-04-19</th>\n",
       "      <td>2018</td>\n",
       "      <td>4</td>\n",
       "      <td>19</td>\n",
       "      <td>45.0</td>\n",
       "      <td>44.0</td>\n",
       "      <td>68.0</td>\n",
       "    </tr>\n",
       "    <tr>\n",
       "      <th>2018-04-20</th>\n",
       "      <td>2018</td>\n",
       "      <td>4</td>\n",
       "      <td>20</td>\n",
       "      <td>38.0</td>\n",
       "      <td>35.0</td>\n",
       "      <td>76.0</td>\n",
       "    </tr>\n",
       "    <tr>\n",
       "      <th>2018-04-21</th>\n",
       "      <td>2018</td>\n",
       "      <td>4</td>\n",
       "      <td>21</td>\n",
       "      <td>51.0</td>\n",
       "      <td>40.0</td>\n",
       "      <td>67.0</td>\n",
       "    </tr>\n",
       "    <tr>\n",
       "      <th>2018-04-22</th>\n",
       "      <td>2018</td>\n",
       "      <td>4</td>\n",
       "      <td>22</td>\n",
       "      <td>56.0</td>\n",
       "      <td>45.0</td>\n",
       "      <td>72.0</td>\n",
       "    </tr>\n",
       "    <tr>\n",
       "      <th>2018-04-23</th>\n",
       "      <td>2018</td>\n",
       "      <td>4</td>\n",
       "      <td>23</td>\n",
       "      <td>49.0</td>\n",
       "      <td>42.0</td>\n",
       "      <td>54.0</td>\n",
       "    </tr>\n",
       "  </tbody>\n",
       "</table>\n",
       "</div>"
      ],
      "text/plain": [
       "            YEAR  MONTH  DAY  Max Temp (yest)  Max Temp (30 ago)  \\\n",
       "DATE                                                               \n",
       "2018-04-19  2018      4   19             45.0               44.0   \n",
       "2018-04-20  2018      4   20             38.0               35.0   \n",
       "2018-04-21  2018      4   21             51.0               40.0   \n",
       "2018-04-22  2018      4   22             56.0               45.0   \n",
       "2018-04-23  2018      4   23             49.0               42.0   \n",
       "\n",
       "            Max Temp (year ago)  \n",
       "DATE                             \n",
       "2018-04-19                 68.0  \n",
       "2018-04-20                 76.0  \n",
       "2018-04-21                 67.0  \n",
       "2018-04-22                 72.0  \n",
       "2018-04-23                 54.0  "
      ]
     },
     "execution_count": 147,
     "metadata": {},
     "output_type": "execute_result"
    }
   ],
   "source": [
    "botanic_features_present = botanic_features[-365:]\n",
    "\n",
    "starting_date = botanic_features_present.index[-1] + datetime.timedelta(days=1)\n",
    "botanic_features_present.head()"
   ]
  },
  {
   "cell_type": "code",
   "execution_count": 148,
   "metadata": {},
   "outputs": [
    {
     "name": "stderr",
     "output_type": "stream",
     "text": [
      "<ipython-input-148-88076a490b95>:2: SettingWithCopyWarning: \n",
      "A value is trying to be set on a copy of a slice from a DataFrame.\n",
      "Try using .loc[row_indexer,col_indexer] = value instead\n",
      "\n",
      "See the caveats in the documentation: https://pandas.pydata.org/pandas-docs/stable/user_guide/indexing.html#returning-a-view-versus-a-copy\n",
      "  pred_fut['Max Temp'] = botanic_target.loc['2018-04-19':]\n"
     ]
    },
    {
     "data": {
      "text/html": [
       "<div>\n",
       "<style scoped>\n",
       "    .dataframe tbody tr th:only-of-type {\n",
       "        vertical-align: middle;\n",
       "    }\n",
       "\n",
       "    .dataframe tbody tr th {\n",
       "        vertical-align: top;\n",
       "    }\n",
       "\n",
       "    .dataframe thead th {\n",
       "        text-align: right;\n",
       "    }\n",
       "</style>\n",
       "<table border=\"1\" class=\"dataframe\">\n",
       "  <thead>\n",
       "    <tr style=\"text-align: right;\">\n",
       "      <th></th>\n",
       "      <th>YEAR</th>\n",
       "      <th>MONTH</th>\n",
       "      <th>DAY</th>\n",
       "      <th>Max Temp (yest)</th>\n",
       "      <th>Max Temp (30 ago)</th>\n",
       "      <th>Max Temp (year ago)</th>\n",
       "      <th>Max Temp</th>\n",
       "    </tr>\n",
       "    <tr>\n",
       "      <th>DATE</th>\n",
       "      <th></th>\n",
       "      <th></th>\n",
       "      <th></th>\n",
       "      <th></th>\n",
       "      <th></th>\n",
       "      <th></th>\n",
       "      <th></th>\n",
       "    </tr>\n",
       "  </thead>\n",
       "  <tbody>\n",
       "    <tr>\n",
       "      <th>2018-04-19</th>\n",
       "      <td>2018</td>\n",
       "      <td>4</td>\n",
       "      <td>19</td>\n",
       "      <td>45.0</td>\n",
       "      <td>44.0</td>\n",
       "      <td>68.0</td>\n",
       "      <td>38.0</td>\n",
       "    </tr>\n",
       "    <tr>\n",
       "      <th>2018-04-20</th>\n",
       "      <td>2018</td>\n",
       "      <td>4</td>\n",
       "      <td>20</td>\n",
       "      <td>38.0</td>\n",
       "      <td>35.0</td>\n",
       "      <td>76.0</td>\n",
       "      <td>51.0</td>\n",
       "    </tr>\n",
       "    <tr>\n",
       "      <th>2018-04-21</th>\n",
       "      <td>2018</td>\n",
       "      <td>4</td>\n",
       "      <td>21</td>\n",
       "      <td>51.0</td>\n",
       "      <td>40.0</td>\n",
       "      <td>67.0</td>\n",
       "      <td>56.0</td>\n",
       "    </tr>\n",
       "    <tr>\n",
       "      <th>2018-04-22</th>\n",
       "      <td>2018</td>\n",
       "      <td>4</td>\n",
       "      <td>22</td>\n",
       "      <td>56.0</td>\n",
       "      <td>45.0</td>\n",
       "      <td>72.0</td>\n",
       "      <td>49.0</td>\n",
       "    </tr>\n",
       "    <tr>\n",
       "      <th>2018-04-23</th>\n",
       "      <td>2018</td>\n",
       "      <td>4</td>\n",
       "      <td>23</td>\n",
       "      <td>49.0</td>\n",
       "      <td>42.0</td>\n",
       "      <td>54.0</td>\n",
       "      <td>56.0</td>\n",
       "    </tr>\n",
       "  </tbody>\n",
       "</table>\n",
       "</div>"
      ],
      "text/plain": [
       "            YEAR  MONTH  DAY  Max Temp (yest)  Max Temp (30 ago)  \\\n",
       "DATE                                                               \n",
       "2018-04-19  2018      4   19             45.0               44.0   \n",
       "2018-04-20  2018      4   20             38.0               35.0   \n",
       "2018-04-21  2018      4   21             51.0               40.0   \n",
       "2018-04-22  2018      4   22             56.0               45.0   \n",
       "2018-04-23  2018      4   23             49.0               42.0   \n",
       "\n",
       "            Max Temp (year ago)  Max Temp  \n",
       "DATE                                       \n",
       "2018-04-19                 68.0      38.0  \n",
       "2018-04-20                 76.0      51.0  \n",
       "2018-04-21                 67.0      56.0  \n",
       "2018-04-22                 72.0      49.0  \n",
       "2018-04-23                 54.0      56.0  "
      ]
     },
     "execution_count": 148,
     "metadata": {},
     "output_type": "execute_result"
    }
   ],
   "source": [
    "pred_fut = botanic_features_present\n",
    "pred_fut['Max Temp'] = botanic_target.loc['2018-04-19':]\n",
    "\n",
    "def populate_row(df):\n",
    "    new_date = df.index[-1] + datetime.timedelta(days=1)\n",
    "    df.loc[new_date] = \n",
    "\n",
    "\n",
    "pred_fut.loc[starting_date] = "
   ]
  },
  {
   "cell_type": "code",
   "execution_count": null,
   "metadata": {},
   "outputs": [],
   "source": []
  }
 ],
 "metadata": {
  "kernelspec": {
   "display_name": "Python 3",
   "language": "python",
   "name": "python3"
  },
  "language_info": {
   "codemirror_mode": {
    "name": "ipython",
    "version": 3
   },
   "file_extension": ".py",
   "mimetype": "text/x-python",
   "name": "python",
   "nbconvert_exporter": "python",
   "pygments_lexer": "ipython3",
   "version": "3.8.3"
  }
 },
 "nbformat": 4,
 "nbformat_minor": 4
}
